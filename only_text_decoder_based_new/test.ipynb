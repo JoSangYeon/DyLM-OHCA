{
 "cells": [
  {
   "cell_type": "code",
   "execution_count": 1,
   "metadata": {},
   "outputs": [
    {
     "name": "stderr",
     "output_type": "stream",
     "text": [
      "/home/jsy/anaconda3/envs/NIA/lib/python3.10/site-packages/tqdm/auto.py:21: TqdmWarning: IProgress not found. Please update jupyter and ipywidgets. See https://ipywidgets.readthedocs.io/en/stable/user_install.html\n",
      "  from .autonotebook import tqdm as notebook_tqdm\n"
     ]
    }
   ],
   "source": [
    "import os\n",
    "import glob\n",
    "import pickle\n",
    "import argparse\n",
    "import pandas as pd\n",
    "import numpy as np\n",
    "\n",
    "import torch\n",
    "import torch.nn as nn\n",
    "import torch.optim as optim\n",
    "from torch.utils.data import DataLoader\n",
    "from torch.utils.data import Dataset, DataLoader, random_split, RandomSampler\n",
    "\n",
    "from transformers import AutoTokenizer\n",
    "from transformers import GPT2TokenizerFast\n",
    "from transformers import BertTokenizerFast\n",
    "from transformers import get_cosine_schedule_with_warmup\n",
    "from transformers import get_linear_schedule_with_warmup\n",
    "\n",
    "from dataset import *\n",
    "from learning import *\n",
    "from model import *\n",
    "from utils import *\n",
    "\n",
    "import warnings\n",
    "warnings.filterwarnings(action='ignore')"
   ]
  },
  {
   "cell_type": "code",
   "execution_count": 2,
   "metadata": {},
   "outputs": [
    {
     "data": {
      "text/plain": [
       "0        64f6b358446b19d68e338111\n",
       "1        64f6bcd53d12bbf07dab09c7\n",
       "2        6551f6854f4d810f409c6ba7\n",
       "3        651e4a0693f80b92304ff526\n",
       "4        651e50c72f06ed4a6e31e075\n",
       "                   ...           \n",
       "31790    651e4d9be84a30cdf982d1a9\n",
       "31791    651e4f6d06957f3443ecf8f5\n",
       "31792    6551f6af69cfa8bc64e69a1c\n",
       "31793    651e4c5b48bae90750379aeb\n",
       "31794    64ec27f62be6ffc66cc6c982\n",
       "Name: id, Length: 31795, dtype: object"
      ]
     },
     "execution_count": 2,
     "metadata": {},
     "output_type": "execute_result"
    }
   ],
   "source": [
    "is_full = True\n",
    "is_avgpool = True\n",
    "\n",
    "# Define project\n",
    "project_name = f'NIA_119-GPT_{\"full\" if is_full else \"end\"}'\n",
    "model_name = 'only_Text_GPT_{}_{}'.format(\"full\" if is_full else \"end\", 'avgpool' if is_avgpool else 'last')\n",
    "model_link = \"kykim/gpt3-kor-small_based_on_gpt2\" # 'skt/kogpt2-base-v2' #'beomi/kcbert-base'\n",
    "\n",
    "# args\n",
    "epochs = 15\n",
    "batch_size = 12\n",
    "lr = 1e-5\n",
    "\n",
    "class_num = 2\n",
    "speaker_num = 4\n",
    "max_length = 768\n",
    "padding = 'max_length'\n",
    "save_term = 960\n",
    "\n",
    "# dataset\n",
    "if is_full:\n",
    "    train_path = os.path.join('..', 'NIA_text_dataset', 'train_json_audio_data_decoder.csv')\n",
    "    valid_path = os.path.join('..', 'NIA_text_dataset', 'valid_json_audio_data_decoder.csv')\n",
    "    test_path = os.path.join('..', 'NIA_text_dataset', 'test_json_audio_data_decoder.csv')\n",
    "    # train_path = os.path.join('..', 'NIA_text_dataset', 'toy_data_json_audio_data_decoder.csv')\n",
    "    # valid_path = os.path.join('..', 'NIA_text_dataset', 'toy_data_json_audio_data_decoder.csv')\n",
    "    # test_path = os.path.join('..', 'NIA_text_dataset', 'toy_data_json_audio_data_decoder.csv')\n",
    "else:\n",
    "    train_path = os.path.join('..', 'NIA_text_dataset', 'train_json_audio_end_data_decoder.csv')\n",
    "    valid_path = os.path.join('..', 'NIA_text_dataset', 'valid_json_audio_end_data_decoder.csv')\n",
    "    test_path = os.path.join('..', 'NIA_text_dataset', 'test_json_audio_end_data_decoder.csv')\n",
    "    # train_path = os.path.join('..', 'NIA_text_dataset', 'toy_data_json_audio_end_data_decoder.csv')\n",
    "    # valid_path = os.path.join('..', 'NIA_text_dataset', 'toy_data_json_audio_end_data_decoder.csv')\n",
    "    # test_path = os.path.join('..', 'NIA_text_dataset', 'toy_data_json_audio_end_data_decoder.csv')\n",
    "    \n",
    "save_path = set_save_path(model_name, epochs, batch_size)\n",
    "\n",
    "train_data = pd.read_csv(train_path)\n",
    "valid_data = pd.read_csv(valid_path)\n",
    "test_data = pd.read_csv(test_path)\n",
    "valid_file_ids = valid_data.id\n",
    "test_file_ids = test_data.id\n",
    "\n",
    "test_file_ids"
   ]
  },
  {
   "cell_type": "code",
   "execution_count": 3,
   "metadata": {},
   "outputs": [
    {
     "data": {
      "text/plain": [
       "True"
      ]
     },
     "execution_count": 3,
     "metadata": {},
     "output_type": "execute_result"
    }
   ],
   "source": [
    "len(test_file_ids.unique()) == len(test_file_ids)"
   ]
  },
  {
   "cell_type": "code",
   "execution_count": 4,
   "metadata": {},
   "outputs": [
    {
     "data": {
      "text/plain": [
       "0          64f6b358446b19d68e338111\n",
       "1          64f6b358446b19d68e338111\n",
       "2          64f6b358446b19d68e338111\n",
       "3          64f6b358446b19d68e338111\n",
       "4          64f6b358446b19d68e338111\n",
       "                     ...           \n",
       "7499641    651e545d85c12f9c1b91f581\n",
       "7499642    651e545d85c12f9c1b91f581\n",
       "7499643    651e545d85c12f9c1b91f581\n",
       "7499644    651e545d85c12f9c1b91f581\n",
       "7499645    651e545d85c12f9c1b91f581\n",
       "Name: id, Length: 7499646, dtype: object"
      ]
     },
     "execution_count": 4,
     "metadata": {},
     "output_type": "execute_result"
    }
   ],
   "source": [
    "end_avgpool_path  = os.path.join('models', 'only_Text_GPT_end_avgpool_e15_bs12', 'result_file_checkpoint_4_2826.csv')\n",
    "end_last_path     = os.path.join('models', 'only_Text_GPT_end_last_e15_bs12', 'result_file_checkpoint_5_4239.csv')\n",
    "full_avgpool_path = os.path.join('models', 'only_Text_GPT_full_avgpool_e15_bs12', 'result_file_checkpoint_5_2826.csv')\n",
    "full_last_path    = os.path.join('models', 'only_Text_GPT_full_last_e15_bs12', 'result_file_checkpoint_5_4239.csv')\n",
    "\n",
    "end_avgpool  = pd.read_csv(end_avgpool_path)\n",
    "end_last     = pd.read_csv(end_last_path)\n",
    "full_avgpool = pd.read_csv(full_avgpool_path)\n",
    "full_last    = pd.read_csv(full_last_path)\n",
    "\n",
    "full_avgpool.id"
   ]
  },
  {
   "cell_type": "code",
   "execution_count": 6,
   "metadata": {},
   "outputs": [
    {
     "data": {
      "text/plain": [
       "12"
      ]
     },
     "execution_count": 6,
     "metadata": {},
     "output_type": "execute_result"
    }
   ],
   "source": [
    "len(full_avgpool.id.unique())"
   ]
  },
  {
   "cell_type": "code",
   "execution_count": null,
   "metadata": {},
   "outputs": [],
   "source": []
  }
 ],
 "metadata": {
  "kernelspec": {
   "display_name": "NIA",
   "language": "python",
   "name": "python3"
  },
  "language_info": {
   "codemirror_mode": {
    "name": "ipython",
    "version": 3
   },
   "file_extension": ".py",
   "mimetype": "text/x-python",
   "name": "python",
   "nbconvert_exporter": "python",
   "pygments_lexer": "ipython3",
   "version": "3.10.14"
  }
 },
 "nbformat": 4,
 "nbformat_minor": 2
}
